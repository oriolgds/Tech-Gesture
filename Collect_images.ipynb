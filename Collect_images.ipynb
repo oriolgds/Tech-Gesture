{
 "cells": [
  {
   "cell_type": "markdown",
   "metadata": {},
   "source": [
    "# Importing libraries"
   ]
  },
  {
   "cell_type": "code",
   "execution_count": 1,
   "metadata": {
    "ExecuteTime": {
     "end_time": "2024-04-14T10:27:30.074923Z",
     "start_time": "2024-04-14T10:27:29.926762Z"
    }
   },
   "outputs": [],
   "source": [
    "import cv2 #opencv\n",
    "import os\n",
    "import time\n",
    "import uuid"
   ]
  },
  {
   "cell_type": "markdown",
   "metadata": {},
   "source": [
    "## Setting up the path"
   ]
  },
  {
   "cell_type": "code",
   "execution_count": 2,
   "metadata": {
    "ExecuteTime": {
     "end_time": "2024-04-14T10:27:30.082437Z",
     "start_time": "2024-04-14T10:27:30.077821Z"
    }
   },
   "outputs": [],
   "source": [
    "IMAGES_PATH= 'datasets/coco/images'"
   ]
  },
  {
   "cell_type": "markdown",
   "metadata": {},
   "source": [
    "### Generating array from abecedary"
   ]
  },
  {
   "cell_type": "code",
   "execution_count": 3,
   "metadata": {
    "ExecuteTime": {
     "end_time": "2024-04-14T10:27:30.089228Z",
     "start_time": "2024-04-14T10:27:30.084214Z"
    }
   },
   "outputs": [
    {
     "name": "stdout",
     "output_type": "stream",
     "text": [
      "['a', 'b', 'c', 'l']\n"
     ]
    }
   ],
   "source": [
    "abecedary = \"abcl\"\n",
    "labels = [*abecedary]\n",
    "print(labels)\n",
    "number_imgs = 5"
   ]
  },
  {
   "cell_type": "markdown",
   "metadata": {},
   "source": [
    "### Useful functions"
   ]
  },
  {
   "cell_type": "code",
   "execution_count": 4,
   "metadata": {
    "ExecuteTime": {
     "end_time": "2024-04-14T10:27:30.096996Z",
     "start_time": "2024-04-14T10:27:30.092350Z"
    }
   },
   "outputs": [],
   "source": [
    "def create_dir(path):\n",
    "    if not os.path.exists(path):\n",
    "        os.makedirs(path)\n",
    "        print(f\"Folder '{path}' created successfully.\")\n",
    "    else:\n",
    "        print(f\"Folder '{path}' already exists.\")"
   ]
  },
  {
   "cell_type": "code",
   "execution_count": 5,
   "metadata": {
    "ExecuteTime": {
     "end_time": "2024-04-14T10:27:30.103655Z",
     "start_time": "2024-04-14T10:27:30.098788Z"
    }
   },
   "outputs": [
    {
     "name": "stdout",
     "output_type": "stream",
     "text": [
      "Folder 'datasets/coco/images' already exists.\n"
     ]
    }
   ],
   "source": [
    "create_dir(IMAGES_PATH)"
   ]
  },
  {
   "cell_type": "code",
   "execution_count": 6,
   "metadata": {
    "ExecuteTime": {
     "end_time": "2024-04-14T10:27:30.167597Z",
     "start_time": "2024-04-14T10:27:30.105922Z"
    }
   },
   "outputs": [],
   "source": [
    "cap = cv2.VideoCapture(0)"
   ]
  },
  {
   "cell_type": "markdown",
   "metadata": {},
   "source": [
    "### Capture code"
   ]
  },
  {
   "cell_type": "code",
   "execution_count": 7,
   "metadata": {
    "ExecuteTime": {
     "end_time": "2024-04-14T10:27:48.108573Z",
     "start_time": "2024-04-14T10:27:30.169448Z"
    }
   },
   "outputs": [
    {
     "name": "stdout",
     "output_type": "stream",
     "text": [
      "Collecting images for a\n",
      "datasets/coco/images\\a.dfd11343-fbdd-11ee-bd3c-105107dacdd8.jpg\n",
      "datasets/coco/images\\a.dfdd2d77-fbdd-11ee-baa7-105107dacdd8.jpg\n",
      "datasets/coco/images\\a.dfe81c24-fbdd-11ee-811e-105107dacdd8.jpg\n",
      "datasets/coco/images\\a.dff2d5b5-fbdd-11ee-8e9a-105107dacdd8.jpg\n",
      "datasets/coco/images\\a.dffe443d-fbdd-11ee-aecc-105107dacdd8.jpg\n",
      "Collecting images for b\n",
      "datasets/coco/images\\b.e5b8851d-fbdd-11ee-a4bc-105107dacdd8.jpg\n",
      "datasets/coco/images\\b.e5c35f10-fbdd-11ee-92d8-105107dacdd8.jpg\n",
      "datasets/coco/images\\b.e5cc6760-fbdd-11ee-aaf7-105107dacdd8.jpg\n",
      "datasets/coco/images\\b.e5d739cb-fbdd-11ee-b7a8-105107dacdd8.jpg\n",
      "datasets/coco/images\\b.e5e2ec4f-fbdd-11ee-b37d-105107dacdd8.jpg\n",
      "Collecting images for c\n",
      "datasets/coco/images\\c.e7cf60b7-fbdd-11ee-9baf-105107dacdd8.jpg\n",
      "datasets/coco/images\\c.e7d9e344-fbdd-11ee-b4f5-105107dacdd8.jpg\n",
      "datasets/coco/images\\c.e7e34bd4-fbdd-11ee-ba88-105107dacdd8.jpg\n",
      "datasets/coco/images\\c.e7eccdb9-fbdd-11ee-b712-105107dacdd8.jpg\n",
      "datasets/coco/images\\c.e7f71c08-fbdd-11ee-8218-105107dacdd8.jpg\n",
      "Collecting images for l\n",
      "datasets/coco/images\\l.eaf46312-fbdd-11ee-b93e-105107dacdd8.jpg\n",
      "datasets/coco/images\\l.eb003d5d-fbdd-11ee-b997-105107dacdd8.jpg\n",
      "datasets/coco/images\\l.eb0b9153-fbdd-11ee-858b-105107dacdd8.jpg\n",
      "datasets/coco/images\\l.eb15d214-fbdd-11ee-8094-105107dacdd8.jpg\n",
      "datasets/coco/images\\l.eb1f6b6f-fbdd-11ee-9b78-105107dacdd8.jpg\n"
     ]
    }
   ],
   "source": [
    "for label in labels:  \n",
    "    while True:\n",
    "        ret, frame = cap.read()\n",
    "        cv2.putText(frame, 'Collecting for {}'.format(label), (0, 50), cv2.FONT_HERSHEY_SIMPLEX, 1, (0, 0, 0), 2, cv2.LINE_AA)\n",
    "        cv2.putText(frame, 'Press q', (0, 150), cv2.FONT_HERSHEY_SIMPLEX, 1, (0, 0, 0), 2, cv2.LINE_AA)\n",
    "        cv2.imshow('frame', frame)\n",
    "        if cv2.waitKey(25) == ord('q'):\n",
    "            break\n",
    "    \n",
    "    print('Collecting images for {}'.format(label))\n",
    "    \n",
    "    for imgnum in range(number_imgs):        \n",
    "        ret, frame = cap.read()        \n",
    "        imgname = os.path.join(IMAGES_PATH, label+'.'+'{}.jpg'.format(str(uuid.uuid1())))\n",
    "        print(imgname)\n",
    "        cv2.waitKey(50)\n",
    "        cv2.imshow('frame', frame)\n",
    "        cv2.imwrite(imgname, frame)"
   ]
  },
  {
   "cell_type": "markdown",
   "metadata": {},
   "source": [
    "#### Closing"
   ]
  },
  {
   "cell_type": "code",
   "execution_count": 8,
   "metadata": {
    "ExecuteTime": {
     "end_time": "2024-04-14T10:27:48.323649Z",
     "start_time": "2024-04-14T10:27:48.111197Z"
    }
   },
   "outputs": [
    {
     "ename": "AttributeError",
     "evalue": "'cv2.VideoCapture' object has no attribute 'destroyAllWindows'",
     "output_type": "error",
     "traceback": [
      "\u001b[1;31m---------------------------------------------------------------------------\u001b[0m",
      "\u001b[1;31mAttributeError\u001b[0m                            Traceback (most recent call last)",
      "Cell \u001b[1;32mIn[8], line 2\u001b[0m\n\u001b[0;32m      1\u001b[0m cap\u001b[38;5;241m.\u001b[39mrelease()\n\u001b[1;32m----> 2\u001b[0m \u001b[43mcap\u001b[49m\u001b[38;5;241;43m.\u001b[39;49m\u001b[43mdestroyAllWindows\u001b[49m()\n",
      "\u001b[1;31mAttributeError\u001b[0m: 'cv2.VideoCapture' object has no attribute 'destroyAllWindows'"
     ]
    }
   ],
   "source": [
    "cap.release()\n",
    "cap.destroyAllWindows()"
   ]
  },
  {
   "cell_type": "code",
   "execution_count": null,
   "metadata": {
    "ExecuteTime": {
     "end_time": "2024-04-14T10:27:48.333506Z",
     "start_time": "2024-04-14T10:27:48.327818Z"
    }
   },
   "outputs": [],
   "source": []
  }
 ],
 "metadata": {
  "kernelspec": {
   "display_name": "Python 3 (ipykernel)",
   "language": "python",
   "name": "python3"
  },
  "language_info": {
   "codemirror_mode": {
    "name": "ipython",
    "version": 3
   },
   "file_extension": ".py",
   "mimetype": "text/x-python",
   "name": "python",
   "nbconvert_exporter": "python",
   "pygments_lexer": "ipython3",
   "version": "3.12.3"
  }
 },
 "nbformat": 4,
 "nbformat_minor": 4
}
